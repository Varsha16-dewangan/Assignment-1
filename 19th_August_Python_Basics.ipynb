{
 "cells": [
  {
   "cell_type": "markdown",
   "id": "2edc62df",
   "metadata": {},
   "source": [
    "# Declare two variables, `x` and `y`, and assign them integer values. Swap the values of these variables without using any temporary variable."
   ]
  },
  {
   "cell_type": "code",
   "execution_count": 1,
   "id": "d8dc1ff8",
   "metadata": {},
   "outputs": [],
   "source": [
    "x, y = 4, 5"
   ]
  },
  {
   "cell_type": "code",
   "execution_count": 2,
   "id": "9d747d45",
   "metadata": {},
   "outputs": [
    {
     "data": {
      "text/plain": [
       "4"
      ]
     },
     "execution_count": 2,
     "metadata": {},
     "output_type": "execute_result"
    }
   ],
   "source": [
    "x"
   ]
  },
  {
   "cell_type": "code",
   "execution_count": 3,
   "id": "e6ff8932",
   "metadata": {},
   "outputs": [
    {
     "data": {
      "text/plain": [
       "5"
      ]
     },
     "execution_count": 3,
     "metadata": {},
     "output_type": "execute_result"
    }
   ],
   "source": [
    "y"
   ]
  },
  {
   "cell_type": "code",
   "execution_count": 4,
   "id": "7440d463",
   "metadata": {},
   "outputs": [],
   "source": [
    "x, y = y, x "
   ]
  },
  {
   "cell_type": "code",
   "execution_count": 5,
   "id": "c4086e03",
   "metadata": {},
   "outputs": [
    {
     "data": {
      "text/plain": [
       "5"
      ]
     },
     "execution_count": 5,
     "metadata": {},
     "output_type": "execute_result"
    }
   ],
   "source": [
    "x"
   ]
  },
  {
   "cell_type": "code",
   "execution_count": 6,
   "id": "e989046b",
   "metadata": {},
   "outputs": [
    {
     "data": {
      "text/plain": [
       "4"
      ]
     },
     "execution_count": 6,
     "metadata": {},
     "output_type": "execute_result"
    }
   ],
   "source": [
    "y"
   ]
  },
  {
   "cell_type": "markdown",
   "id": "c3e8d43f",
   "metadata": {},
   "source": [
    "# Create a program that calculates the area of a rectangle. Take the length and width as inputs from the user and store them in variables. Calculate and display the area."
   ]
  },
  {
   "cell_type": "code",
   "execution_count": 7,
   "id": "cb589bd2",
   "metadata": {},
   "outputs": [
    {
     "name": "stdout",
     "output_type": "stream",
     "text": [
      "The length of the rectangle: 12 \n",
      "The width of the rectangle: 34\n",
      "The area of rectangle: 408\n"
     ]
    }
   ],
   "source": [
    "l = int(input(\"The length of the rectangle: \"))\n",
    "w = int(input(\"The width of the rectangle: \"))\n",
    "\n",
    "Area = l*w\n",
    "print(\"The area of rectangle:\", Area)"
   ]
  },
  {
   "cell_type": "markdown",
   "id": "8cc14b14",
   "metadata": {},
   "source": [
    "# Write a Python program that converts temperatures from Celsius to Fahrenheit. Take the temperature in Celsius as input, store it in a variable, convert it to Fahrenheit, and display the result."
   ]
  },
  {
   "cell_type": "code",
   "execution_count": 8,
   "id": "073e6090",
   "metadata": {},
   "outputs": [
    {
     "name": "stdout",
     "output_type": "stream",
     "text": [
      "The temperature in celcius: 45.7\n",
      "The temperature in Fehrenheit:  114.26\n"
     ]
    }
   ],
   "source": [
    "C = float(input(\"The temperature in celcius: \"))\n",
    "F = (C*9/5)+ 32\n",
    "print(\"The temperature in Fehrenheit: \", F)"
   ]
  },
  {
   "cell_type": "code",
   "execution_count": null,
   "id": "835ebe23",
   "metadata": {},
   "outputs": [],
   "source": []
  },
  {
   "cell_type": "markdown",
   "id": "c8ceaef9",
   "metadata": {},
   "source": [
    "# Write a Python program that takes a string as input and prints the length of the string."
   ]
  },
  {
   "cell_type": "code",
   "execution_count": 9,
   "id": "4868b399",
   "metadata": {},
   "outputs": [
    {
     "name": "stdout",
     "output_type": "stream",
     "text": [
      "Take a string: Apple\n",
      "The length of the string  5\n"
     ]
    }
   ],
   "source": [
    "s = input(\"Take a string: \")\n",
    "result = len(s)\n",
    "print('The length of the string ', result)"
   ]
  },
  {
   "cell_type": "markdown",
   "id": "c5a31bc8",
   "metadata": {},
   "source": [
    "# Create a program that takes a sentence from the user and counts the number of vowels (a, e, i, o, u) in the string."
   ]
  },
  {
   "cell_type": "code",
   "execution_count": 15,
   "id": "635d0e3c",
   "metadata": {},
   "outputs": [
    {
     "name": "stdout",
     "output_type": "stream",
     "text": [
      "Enter a sentence: This is the first assignment.\n",
      "Count of vowels:\n",
      "a: 1\n",
      "e: 2\n",
      "i: 4\n",
      "o: 0\n",
      "u: 0\n"
     ]
    }
   ],
   "source": [
    "user_sentence = input(\"Enter a sentence: \")\n",
    "user_sentence = user_sentence.lower()\n",
    "\n",
    "vowels = 'aeiou'\n",
    "counts = [0, 0, 0, 0, 0]  # a, e, i, o, u\n",
    "\n",
    "for char in user_sentence:\n",
    "    if char in vowels:\n",
    "        index = vowels.index(char)\n",
    "        counts[index] += 1\n",
    "\n",
    "print(\"Count of vowels:\")\n",
    "for i in range(len(vowels)):\n",
    "    print(f\"{vowels[i]}: {counts[i]}\")\n"
   ]
  },
  {
   "cell_type": "markdown",
   "id": "a5618ecf",
   "metadata": {},
   "source": [
    "# Given a string, reverse the order of characters using string slicing and print the reversed string."
   ]
  },
  {
   "cell_type": "code",
   "execution_count": 14,
   "id": "132e3a0a",
   "metadata": {},
   "outputs": [
    {
     "data": {
      "text/plain": [
       "'ahsraV'"
      ]
     },
     "execution_count": 14,
     "metadata": {},
     "output_type": "execute_result"
    }
   ],
   "source": [
    "s = 'Varsha'[::-1]\n",
    "s"
   ]
  },
  {
   "cell_type": "markdown",
   "id": "d103f070",
   "metadata": {},
   "source": [
    "# Write a program that takes a string as input and checks if it is a palindrome (reads the same forwards and backwards)."
   ]
  },
  {
   "cell_type": "code",
   "execution_count": 22,
   "id": "b0f7731b",
   "metadata": {},
   "outputs": [
    {
     "name": "stdout",
     "output_type": "stream",
     "text": [
      "Enter a string: appa\n",
      "The string 'appa' is a  palindrome.\n"
     ]
    }
   ],
   "source": [
    "user_input = input(\"Enter a string: \")\n",
    "\n",
    "cleaned_input = user_input.lower()\n",
    "reversed_input = cleaned_input[::-1]\n",
    "\n",
    "if cleaned_input == reversed_input:\n",
    "    print(f\"The string '{user_input}' is a  palindrome.\")\n",
    "else: \n",
    "    print(f\"The string '{user_input}' is not a  palindrome.\")\n"
   ]
  },
  {
   "cell_type": "markdown",
   "id": "213762ef",
   "metadata": {},
   "source": [
    "# Create a program that takes a string as input and removes all the spaces from it. Print the modified string without spaces."
   ]
  },
  {
   "cell_type": "code",
   "execution_count": 34,
   "id": "2534407d",
   "metadata": {},
   "outputs": [
    {
     "name": "stdout",
     "output_type": "stream",
     "text": [
      " apple\n",
      "apple\n"
     ]
    }
   ],
   "source": [
    "s = input(' ')  # Taking input from the user\n",
    "result = ''.join(s.split())  # Removing spaces by splitting and joining\n",
    "print(result)  # Printing the modified string without spaces\n"
   ]
  },
  {
   "cell_type": "code",
   "execution_count": null,
   "id": "f048f3d6",
   "metadata": {},
   "outputs": [],
   "source": []
  },
  {
   "cell_type": "code",
   "execution_count": null,
   "id": "c0c58231",
   "metadata": {},
   "outputs": [],
   "source": []
  },
  {
   "cell_type": "code",
   "execution_count": null,
   "id": "372bac7d",
   "metadata": {},
   "outputs": [],
   "source": []
  },
  {
   "cell_type": "code",
   "execution_count": null,
   "id": "61c3eb46",
   "metadata": {},
   "outputs": [],
   "source": []
  },
  {
   "cell_type": "code",
   "execution_count": null,
   "id": "e6089956",
   "metadata": {},
   "outputs": [],
   "source": []
  },
  {
   "cell_type": "code",
   "execution_count": null,
   "id": "e9b1b0fa",
   "metadata": {},
   "outputs": [],
   "source": []
  },
  {
   "cell_type": "code",
   "execution_count": null,
   "id": "b21bf1b0",
   "metadata": {},
   "outputs": [],
   "source": []
  }
 ],
 "metadata": {
  "kernelspec": {
   "display_name": "Python 3 (ipykernel)",
   "language": "python",
   "name": "python3"
  },
  "language_info": {
   "codemirror_mode": {
    "name": "ipython",
    "version": 3
   },
   "file_extension": ".py",
   "mimetype": "text/x-python",
   "name": "python",
   "nbconvert_exporter": "python",
   "pygments_lexer": "ipython3",
   "version": "3.11.5"
  }
 },
 "nbformat": 4,
 "nbformat_minor": 5
}
